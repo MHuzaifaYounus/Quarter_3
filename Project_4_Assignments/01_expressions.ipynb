{
  "nbformat": 4,
  "nbformat_minor": 0,
  "metadata": {
    "colab": {
      "provenance": [],
      "authorship_tag": "ABX9TyNzyxKFbPQ7J7Bz3tx87V0D",
      "include_colab_link": true
    },
    "kernelspec": {
      "name": "python3",
      "display_name": "Python 3"
    },
    "language_info": {
      "name": "python"
    }
  },
  "cells": [
    {
      "cell_type": "markdown",
      "metadata": {
        "id": "view-in-github",
        "colab_type": "text"
      },
      "source": [
        "<a href=\"https://colab.research.google.com/github/MHuzaifaYounus/Quarter_3/blob/master/Project_4_Assignments/01_expressions.ipynb\" target=\"_parent\"><img src=\"https://colab.research.google.com/assets/colab-badge.svg\" alt=\"Open In Colab\"/></a>"
      ]
    },
    {
      "cell_type": "markdown",
      "source": [
        "# 1- Dice Simulator"
      ],
      "metadata": {
        "id": "uJTuQCdy66nP"
      }
    },
    {
      "cell_type": "code",
      "execution_count": 12,
      "metadata": {
        "colab": {
          "base_uri": "https://localhost:8080/"
        },
        "id": "jsSd4g3D6vGe",
        "outputId": "55694f7f-6485-4546-87d1-32b6415228be"
      },
      "outputs": [
        {
          "output_type": "stream",
          "name": "stdout",
          "text": [
            "Die1: 2 , Die2: 4 , Total: 6\n",
            "Die1: 3 , Die2: 3 , Total: 6\n",
            "Die1: 6 , Die2: 3 , Total: 9\n"
          ]
        }
      ],
      "source": [
        "import random\n",
        "def rolldice():\n",
        "  die1 = random.randint(1,6)\n",
        "  die2 = random.randint(1,6)\n",
        "  total = die1 + die2\n",
        "  print(f\"Die1: {die1} , Die2: {die2} , Total: {total}\")\n",
        "\n",
        "def main():\n",
        "  rolldice()\n",
        "  rolldice()\n",
        "  rolldice()\n",
        "\n",
        "\n",
        "if __name__ == '__main__':\n",
        "  main()\n"
      ]
    },
    {
      "cell_type": "markdown",
      "source": [
        "# `2- E = MC^2\n"
      ],
      "metadata": {
        "id": "AjQ65GGh8Xga"
      }
    },
    {
      "cell_type": "code",
      "source": [
        "C: int = 299792458\n",
        "def main():\n",
        "  mass = float(input(\"Enter Mass In KG: \"))\n",
        "  energy = mass * (C**2)\n",
        "\n",
        "  print(\"E = M * C^2....\")\n",
        "  print(f\"Mass : {mass} kg\")\n",
        "  print(f\"Energy: {energy} Joules\")\n",
        "\n",
        "\n",
        "if __name__ == '__main__':\n",
        "    main()"
      ],
      "metadata": {
        "colab": {
          "base_uri": "https://localhost:8080/"
        },
        "id": "FqgYfD5e8fAx",
        "outputId": "57df1a92-5e41-40cb-a6ef-20bb7a4cf120"
      },
      "execution_count": 14,
      "outputs": [
        {
          "output_type": "stream",
          "name": "stdout",
          "text": [
            "Enter Mass In KG: 100\n",
            "E = M * C^2....\n",
            "Mass : 100.0 kg\n",
            "Energy: 8.987551787368176e+18 Joules\n"
          ]
        }
      ]
    },
    {
      "cell_type": "markdown",
      "source": [
        "# 3- Feet to Inches"
      ],
      "metadata": {
        "id": "_FwHi3kk9nIp"
      }
    },
    {
      "cell_type": "code",
      "source": [
        "def main():\n",
        "  feet = float(input(\"Enter Your Feet: \"))\n",
        "  inches = 12 * feet\n",
        "  print(f\"{feet} feet is qual to {inches} inches\")\n",
        "\n",
        "\n",
        "\n",
        "\n",
        "\n",
        "if __name__ == '__main__':\n",
        "    main()"
      ],
      "metadata": {
        "colab": {
          "base_uri": "https://localhost:8080/"
        },
        "id": "5WFhLjgA9qTA",
        "outputId": "2dfbc9bf-f3f5-488f-b8c3-4d50f311619f"
      },
      "execution_count": 16,
      "outputs": [
        {
          "output_type": "stream",
          "name": "stdout",
          "text": [
            "Enter Your Feet: 3\n",
            "3.0 feet is qual to 36.0 inches\n"
          ]
        }
      ]
    },
    {
      "cell_type": "markdown",
      "source": [
        "# 4- Pythagorean Theorem"
      ],
      "metadata": {
        "id": "K770Uq9w-Mpe"
      }
    },
    {
      "cell_type": "code",
      "source": [
        "def main():\n",
        "  base = float(input(\"Enter The Length Of the Base: \"))\n",
        "  perpendicular = float(input(\"Enter The Length Of the Perpendicular: \"))\n",
        "  hypoteniuse = (base**2 + perpendicular**2)**0.5\n",
        "  print(f\"Hypoteniuse is : {hypoteniuse}\")\n",
        "\n",
        "\n",
        "\n",
        "\n",
        "if __name__ == '__main__':\n",
        "    main()"
      ],
      "metadata": {
        "colab": {
          "base_uri": "https://localhost:8080/"
        },
        "id": "lmAJm8Dh-Pqu",
        "outputId": "557acf8b-66a5-4f49-a935-68cb111a29d4"
      },
      "execution_count": 18,
      "outputs": [
        {
          "output_type": "stream",
          "name": "stdout",
          "text": [
            "Enter The Length Of the Base: 3\n",
            "Enter The Length Of the Perpendicular: 4\n",
            "Hypoteniuse is : 5.0\n"
          ]
        }
      ]
    },
    {
      "cell_type": "markdown",
      "source": [
        "# 5- Remainder Devision"
      ],
      "metadata": {
        "id": "0szf3gT3-9jk"
      }
    },
    {
      "cell_type": "code",
      "source": [
        "def main():\n",
        "  divident = int(input(\"Please enter an integer to be divided: \"))\n",
        "  divisor = int(input(\"Please enter an integer to divided by: \"))\n",
        "  result = divident // divisor\n",
        "  remainder = divident % divisor\n",
        "  print(f\"Result : {result} , Remainder : {remainder}\")\n",
        "\n",
        "if __name__ == '__main__':\n",
        "    main()"
      ],
      "metadata": {
        "colab": {
          "base_uri": "https://localhost:8080/"
        },
        "id": "IwLk4rst_AXE",
        "outputId": "0ab8fbdd-1886-4ea0-d96f-ce6d39f46817"
      },
      "execution_count": 21,
      "outputs": [
        {
          "output_type": "stream",
          "name": "stdout",
          "text": [
            "Please enter an integer to be divided: 5\n",
            "Please enter an integer to divided by: 4\n",
            "Result : 1 , Remainder : 1\n"
          ]
        }
      ]
    },
    {
      "cell_type": "markdown",
      "source": [
        "# 6- Roll Dice"
      ],
      "metadata": {
        "id": "xnoyS7VdAACa"
      }
    },
    {
      "cell_type": "code",
      "source": [
        "import random\n",
        "def main():\n",
        "  die1 = random.randint(1,6)\n",
        "  die2 = random.randint(1,6)\n",
        "  total = die1 + die2\n",
        "  print(f\"Die1: {die1} , Die2: {die2} , Total: {total}\")\n",
        "\n",
        "\n",
        "if __name__ == '__main__':\n",
        "  main()"
      ],
      "metadata": {
        "colab": {
          "base_uri": "https://localhost:8080/"
        },
        "id": "xHAeKexzAB8C",
        "outputId": "25ea2473-62d9-4518-87f2-fa55f818de6b"
      },
      "execution_count": 24,
      "outputs": [
        {
          "output_type": "stream",
          "name": "stdout",
          "text": [
            "Die1: 5 , Die2: 5 , Total: 10\n"
          ]
        }
      ]
    },
    {
      "cell_type": "markdown",
      "source": [
        "# 7- Seconds In Year"
      ],
      "metadata": {
        "id": "HnIvzALwAOJB"
      }
    },
    {
      "cell_type": "code",
      "source": [
        "DAYS_PER_YEAR: int = 365\n",
        "HOURS_PER_DAY: int = 24\n",
        "MIN_PER_HOUR: int = 60\n",
        "SEC_PER_MIN: int = 60\n",
        "\n",
        "def main():\n",
        "    print(f\"There are {DAYS_PER_YEAR * HOURS_PER_DAY * MIN_PER_HOUR * SEC_PER_MIN} seconds in a year!\")\n",
        "\n",
        "\n",
        "\n",
        "if __name__ == '__main__':\n",
        "    main()"
      ],
      "metadata": {
        "colab": {
          "base_uri": "https://localhost:8080/"
        },
        "id": "07QscBYLARLh",
        "outputId": "b35d2201-9d61-41ea-ac0f-4a9ed3c1b41a"
      },
      "execution_count": 25,
      "outputs": [
        {
          "output_type": "stream",
          "name": "stdout",
          "text": [
            "There are 31536000 seconds in a year!\n"
          ]
        }
      ]
    },
    {
      "cell_type": "markdown",
      "source": [
        "# 8- Tiny Mad Lib"
      ],
      "metadata": {
        "id": "PlX7FQItAkuZ"
      }
    },
    {
      "cell_type": "code",
      "source": [
        "\n",
        "def main():\n",
        "\n",
        "    noun: str = input(\"Please type a noun and press enter. \")\n",
        "    verb: str = input(\"Please type a verb and press enter. \")\n",
        "    obj:str = input(\"Please type a object and press enter. \")\n",
        "    adjective: str = input(\"Please type an adjective and press enter. \")\n",
        "\n",
        "\n",
        "    print(f\"{noun} {verb} {obj} {adjective}!.\")\n",
        "\n",
        "\n",
        "\n",
        "if __name__ == '__main__':\n",
        "    main()"
      ],
      "metadata": {
        "colab": {
          "base_uri": "https://localhost:8080/"
        },
        "id": "zo8COyS7AnEo",
        "outputId": "21fbed43-25cf-406e-ca78-61454a319eb2"
      },
      "execution_count": 29,
      "outputs": [
        {
          "output_type": "stream",
          "name": "stdout",
          "text": [
            "Please type a noun and press enter. I\n",
            "Please type a verb and press enter. ride\n",
            "Please type a object and press enter. cycle\n",
            "Please type an adjective and press enter. fast\n",
            "I ride cycle fast \n"
          ]
        }
      ]
    }
  ]
}
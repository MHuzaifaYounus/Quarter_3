{
  "nbformat": 4,
  "nbformat_minor": 0,
  "metadata": {
    "colab": {
      "provenance": [],
      "authorship_tag": "ABX9TyNTqWVaeuXkZfzhyhNfyRiM",
      "include_colab_link": true
    },
    "kernelspec": {
      "name": "python3",
      "display_name": "Python 3"
    },
    "language_info": {
      "name": "python"
    }
  },
  "cells": [
    {
      "cell_type": "markdown",
      "metadata": {
        "id": "view-in-github",
        "colab_type": "text"
      },
      "source": [
        "<a href=\"https://colab.research.google.com/github/MHuzaifaYounus/Quarter_3/blob/master/Project_4_Assignments/04_dictionaries.ipynb\" target=\"_parent\"><img src=\"https://colab.research.google.com/assets/colab-badge.svg\" alt=\"Open In Colab\"/></a>"
      ]
    },
    {
      "cell_type": "markdown",
      "source": [
        "# 1- Count Numbers"
      ],
      "metadata": {
        "id": "mHqaCylnVxg6"
      }
    },
    {
      "cell_type": "code",
      "execution_count": 8,
      "metadata": {
        "colab": {
          "base_uri": "https://localhost:8080/"
        },
        "id": "im-3uUbpVohh",
        "outputId": "0435c4de-569c-474e-db31-88b0dbe114f0"
      },
      "outputs": [
        {
          "output_type": "stream",
          "name": "stdout",
          "text": [
            "Enter a number: 5\n",
            "Enter a number: 5\n",
            "Enter a number: \n",
            "5 appears 2 times.\n"
          ]
        }
      ],
      "source": [
        "def add_to_dict(num_lst):\n",
        "    num_dict = {}\n",
        "    for num in num_lst:\n",
        "      if num != \"\":\n",
        "        if num not in num_dict:\n",
        "            num_dict[num] = 1\n",
        "        else:\n",
        "            num_dict[num] += 1\n",
        "\n",
        "    return num_dict\n",
        "def main():\n",
        "  num_lst = []\n",
        "  while True:\n",
        "    num = input(\"Enter a number: \")\n",
        "    num_lst.append(num)\n",
        "    if num == \"\":\n",
        "      break\n",
        "  num_dict = add_to_dict(num_lst)\n",
        "\n",
        "\n",
        "  for num in num_dict:\n",
        "    print(f\"{num} appears {num_dict[num]} times.\")\n",
        "\n",
        "\n",
        "if __name__ == '__main__':\n",
        "    main()"
      ]
    },
    {
      "cell_type": "markdown",
      "source": [
        "# 2- Phone Book"
      ],
      "metadata": {
        "id": "jv1-Pt7fYK5e"
      }
    },
    {
      "cell_type": "code",
      "source": [
        "def read_phone_numbers():\n",
        "    phonebook = {}\n",
        "\n",
        "    while True:\n",
        "        name = input(\"Name: \")\n",
        "        if name == \"\":\n",
        "            break\n",
        "        number = input(\"Number: \")\n",
        "        phonebook[name] = number\n",
        "\n",
        "    return phonebook\n",
        "\n",
        "\n",
        "def lookup_numbers(phonebook):\n",
        "    while True:\n",
        "        name = input(\"Enter name to lookup: \")\n",
        "        if name == \"\":\n",
        "            break\n",
        "        if name not in phonebook:\n",
        "            print(name + \" is not in the phonebook\")\n",
        "        else:\n",
        "            print(phonebook[name])\n",
        "\n",
        "\n",
        "def main():\n",
        "    phonebook = read_phone_numbers()\n",
        "\n",
        "    for name in phonebook:\n",
        "      print(str(name) + \" -> \" + str(phonebook[name]))\n",
        "\n",
        "    lookup_numbers(phonebook)\n",
        "\n",
        "\n",
        "\n",
        "# Python boilerplate.\n",
        "if __name__ == '__main__':\n",
        "    main()"
      ],
      "metadata": {
        "colab": {
          "base_uri": "https://localhost:8080/"
        },
        "id": "lpq7AfNgYNDX",
        "outputId": "d1749e14-9759-47a6-d543-94f89e47bc82"
      },
      "execution_count": 10,
      "outputs": [
        {
          "name": "stdout",
          "output_type": "stream",
          "text": [
            "Name: huzaifa\n",
            "Number: 0323823293\n",
            "Name: \n",
            "huzaifa -> 0323823293\n",
            "Enter name to lookup: hzuaifa\n",
            "hzuaifa is not in the phonebook\n",
            "Enter name to lookup: huzaifa\n",
            "0323823293\n",
            "Enter name to lookup: \n"
          ]
        }
      ]
    },
    {
      "cell_type": "markdown",
      "source": [
        "# 3- Pop Up Shop"
      ],
      "metadata": {
        "id": "9n9DYHqHZAdK"
      }
    },
    {
      "cell_type": "code",
      "source": [
        "shop = {\n",
        "    \"apples\":10,\n",
        "    \"bananas\":20,\n",
        "    \"mangos\":50,\n",
        "    \"oranges\":30,\n",
        "    \"grapes\":20\n",
        "\n",
        "}\n",
        "def main():\n",
        "  total = 0\n",
        "  for item in shop:\n",
        "    user_inp = int(input(f\"How many ({item}) do you want?: \"))\n",
        "    total += shop[item]*user_inp\n",
        "  print(f\"Your Total Amount is {total}$\")\n",
        "\n",
        "\n",
        "\n",
        "if __name__ == '__main__':\n",
        "    main()"
      ],
      "metadata": {
        "colab": {
          "base_uri": "https://localhost:8080/"
        },
        "id": "re8zJ01QZCuS",
        "outputId": "4670d120-4f3a-4b62-da76-536325830ec5"
      },
      "execution_count": 12,
      "outputs": [
        {
          "output_type": "stream",
          "name": "stdout",
          "text": [
            "How many (apples) do you want?: 4\n",
            "How many (bananas) do you want?: 1\n",
            "How many (mangos) do you want?: 1\n",
            "How many (oranges) do you want?: 1\n",
            "How many (grapes) do you want?: 2\n",
            "Your Total Amount is 180$\n"
          ]
        }
      ]
    },
    {
      "cell_type": "markdown",
      "source": [
        "# 4- PowerFul Passwords"
      ],
      "metadata": {
        "id": "-cWJUnQsZ_Re"
      }
    },
    {
      "cell_type": "code",
      "source": [
        "from hashlib import sha256\n",
        "\n",
        "def login(email, stored_logins, password_to_check):\n",
        "\n",
        "    if stored_logins[email] == hash_password(password_to_check):\n",
        "        return \"Password Already Exist\"\n",
        "\n",
        "    return \"Password Not Found\"\n",
        "\n",
        "\n",
        "def hash_password(password):\n",
        "    return sha256(password.encode()).hexdigest()\n",
        "\n",
        "def main():\n",
        "    stored_logins = {\n",
        "        \"example@gmail.com\": \"5e884898da28047151d0e56f8dc6292773603d0d6aabbdd62a11ef721d1542d8\",\n",
        "        \"code_in_placer@cip.org\": \"973607a4ae7b4cf7d96a100b0fb07e8519cc4f70441d41214a9f811577bb06cc\",\n",
        "        \"student@stanford.edu\": \"882c6df720fd99f5eebb1581a1cf975625cea8a160283011c0b9512bb56c95fb\",\n",
        "\n",
        "\n",
        "    }\n",
        "    print(login(\"example@gmail.com\", stored_logins, \"word\"))\n",
        "    print(login(\"example@gmail.com\", stored_logins, \"password\"))\n",
        "\n",
        "\n",
        "if __name__ == '__main__':\n",
        "    main()"
      ],
      "metadata": {
        "colab": {
          "base_uri": "https://localhost:8080/"
        },
        "id": "djbqlem3aFMl",
        "outputId": "bf46fe60-cafe-49eb-951d-ecca2c0a9294"
      },
      "execution_count": 16,
      "outputs": [
        {
          "output_type": "stream",
          "name": "stdout",
          "text": [
            "Password Not Found\n",
            "Password Already Exist\n"
          ]
        }
      ]
    }
  ]
}
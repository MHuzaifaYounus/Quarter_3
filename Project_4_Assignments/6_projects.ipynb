{
  "nbformat": 4,
  "nbformat_minor": 0,
  "metadata": {
    "colab": {
      "provenance": [],
      "authorship_tag": "ABX9TyPugzCdPYTtMZBdwmgGbPyS",
      "include_colab_link": true
    },
    "kernelspec": {
      "name": "python3",
      "display_name": "Python 3"
    },
    "language_info": {
      "name": "python"
    }
  },
  "cells": [
    {
      "cell_type": "markdown",
      "metadata": {
        "id": "view-in-github",
        "colab_type": "text"
      },
      "source": [
        "<a href=\"https://colab.research.google.com/github/MHuzaifaYounus/Quarter_3/blob/master/Project_4_Assignments/6_projects.ipynb\" target=\"_parent\"><img src=\"https://colab.research.google.com/assets/colab-badge.svg\" alt=\"Open In Colab\"/></a>"
      ]
    },
    {
      "cell_type": "markdown",
      "source": [
        "# 1- Madlibs"
      ],
      "metadata": {
        "id": "YSRKBzZPJ48w"
      }
    },
    {
      "cell_type": "code",
      "execution_count": null,
      "metadata": {
        "colab": {
          "base_uri": "https://localhost:8080/"
        },
        "id": "dSUfWEYsJ3Qh",
        "outputId": "71c0caa1-8f15-4e1a-ec3c-2f174287bc7b"
      },
      "outputs": [
        {
          "output_type": "stream",
          "name": "stdout",
          "text": [
            "Enter Adjective: good\n",
            "Enter Name: Huzaifa\n",
            "Enter a Super Power: fir blade\n",
            "Enter a noun: chiken\n",
            "Enter another Adjective: bad\n",
            "Enter another name: ahmed\n",
            "Enter a verb: destroy\n",
            "The good superhero, Huzaifa, used their fir blade to save the chiken from a bad ahmed who wanted to destroy the world!\n"
          ]
        }
      ],
      "source": [
        "adjective1 = input(\"Enter Adjective: \")\n",
        "name1 = input(\"Enter Name: \")\n",
        "superpower = input(\"Enter a Super Power: \")\n",
        "noun = input(\"Enter a noun: \")\n",
        "adjective2 = input(\"Enter another Adjective: \")\n",
        "name2 = input(\"Enter another name: \")\n",
        "verb = input(\"Enter a verb: \")\n",
        "\n",
        "\n",
        "print(f\"The {adjective1} superhero, {name1}, used their {superpower} to save the {noun} from a {adjective2} {name2} who wanted to {verb} the world!\")"
      ]
    },
    {
      "cell_type": "markdown",
      "source": [
        "# 2- Guess The Number (computer)"
      ],
      "metadata": {
        "id": "U5J_hN6DWbhC"
      }
    },
    {
      "cell_type": "code",
      "source": [
        "import random\n",
        "\n",
        "def main():\n",
        "\n",
        "    secret_number = random.randint(1, 100)\n",
        "\n",
        "    print(\"I am thinking of a number between 1 and 100...\")\n",
        "\n",
        "\n",
        "    guess = int(input(\"Enter a guess: \"))\n",
        "\n",
        "    while guess != secret_number:\n",
        "        if guess < secret_number:\n",
        "            print(\"Your guess is too low\")\n",
        "        else:\n",
        "            print(\"Your guess is too high\")\n",
        "\n",
        "        guess = int(input(\"Enter a new guess: \"))\n",
        "\n",
        "    print(\"Congrats! The number was: \" + str(secret_number))\n",
        "\n",
        "if __name__ == '__main__':\n",
        "    main()"
      ],
      "metadata": {
        "colab": {
          "base_uri": "https://localhost:8080/"
        },
        "id": "AdjCo_eaWeqR",
        "outputId": "4215f868-9e36-4292-d671-bc63da1f4e4e"
      },
      "execution_count": null,
      "outputs": [
        {
          "output_type": "stream",
          "name": "stdout",
          "text": [
            "I am thinking of a number between 1 and 100...\n",
            "Enter a guess: 50\n",
            "Your guess is too low\n",
            "Enter a new guess: 80\n",
            "Your guess is too high\n",
            "Enter a new guess: 60\n",
            "Your guess is too high\n",
            "Enter a new guess: 55\n",
            "Your guess is too high\n",
            "Enter a new guess: 53\n",
            "Congrats! The number was: 53\n"
          ]
        }
      ]
    },
    {
      "cell_type": "markdown",
      "source": [
        "# 3- Guess The Number (user)"
      ],
      "metadata": {
        "id": "-_F0NI68WuI5"
      }
    },
    {
      "cell_type": "code",
      "source": [
        "import random\n",
        "\n",
        "def main():\n",
        "  low = 1\n",
        "  high = 1000\n",
        "  user_inp = \"\"\n",
        "  print(\"Guess a Number btw 1 and 1000.\")\n",
        "  while user_inp != \"c\":\n",
        "    if low != high:\n",
        "      guess = random.randint(low , high)\n",
        "    else:\n",
        "      guess = low\n",
        "    print(f\"Is Your Number is {guess}\")\n",
        "    user_inp = input(\"Enter (h) for high , (l) for low and (c) for correct: \").lower()\n",
        "    if user_inp == \"h\":\n",
        "      high = guess - 1\n",
        "    elif user_inp == \"l\":\n",
        "      low = guess + 1\n",
        "    elif user_inp == \"c\":\n",
        "      print(f\"Yes!, I have Guessed Your Number Which is {guess}\")\n",
        "\n",
        "\n",
        "if __name__ == '__main__':\n",
        "    main()"
      ],
      "metadata": {
        "colab": {
          "base_uri": "https://localhost:8080/"
        },
        "id": "YH55CNpZWydg",
        "outputId": "e5c03241-a929-4ac0-e985-8fe72e9083f9"
      },
      "execution_count": null,
      "outputs": [
        {
          "output_type": "stream",
          "name": "stdout",
          "text": [
            "Guess a Number btw 1 and 1000.\n",
            "Is Your Number is 34\n",
            "Enter (h) for high , (l) for low and (c) for correct: l\n",
            "Is Your Number is 963\n",
            "Enter (h) for high , (l) for low and (c) for correct: h\n",
            "Is Your Number is 848\n",
            "Enter (h) for high , (l) for low and (c) for correct: h\n",
            "Is Your Number is 719\n",
            "Enter (h) for high , (l) for low and (c) for correct: h\n",
            "Is Your Number is 648\n",
            "Enter (h) for high , (l) for low and (c) for correct: h\n",
            "Is Your Number is 592\n",
            "Enter (h) for high , (l) for low and (c) for correct: h\n",
            "Is Your Number is 211\n",
            "Enter (h) for high , (l) for low and (c) for correct: l\n",
            "Is Your Number is 365\n",
            "Enter (h) for high , (l) for low and (c) for correct: h\n",
            "Is Your Number is 324\n",
            "Enter (h) for high , (l) for low and (c) for correct: h\n",
            "Is Your Number is 215\n",
            "Enter (h) for high , (l) for low and (c) for correct: l\n",
            "Is Your Number is 221\n",
            "Enter (h) for high , (l) for low and (c) for correct: h\n",
            "Is Your Number is 216\n",
            "Enter (h) for high , (l) for low and (c) for correct: l\n",
            "Is Your Number is 220\n",
            "Enter (h) for high , (l) for low and (c) for correct: c\n",
            "Yes!, I have Guessed Your Number Which is 220\n"
          ]
        }
      ]
    },
    {
      "cell_type": "markdown",
      "source": [
        "# 4- Rock Paper Scissors"
      ],
      "metadata": {
        "id": "HLL9UMa9adIm"
      }
    },
    {
      "cell_type": "code",
      "source": [
        "import random\n",
        "def main():\n",
        "  user = input(\"Choose: (r) for rock , (p) for paper and (s) for scissors: \").lower()\n",
        "  computer = random.choice(['r',\"p\", \"s\"])\n",
        "  print(f\"Computer Choosed {computer}\")\n",
        "  if user == computer:\n",
        "    print(\"It's a tie\")\n",
        "  elif (user == \"r\" and computer == \"p\") or (user == \"p\" and computer == \"s\") or (user == \"s\" and computer == \"r\") :\n",
        "    print(\"You Lost\")\n",
        "  elif (user == \"r\" and computer == \"s\") or (user == \"p\" and computer == \"r\") or (user == \"s\" and computer == \"p\"):\n",
        "    print(\"You Won\")\n",
        "if __name__ == '__main__':\n",
        "    main()"
      ],
      "metadata": {
        "colab": {
          "base_uri": "https://localhost:8080/"
        },
        "id": "TkFVacvDan5d",
        "outputId": "162f363d-eb1f-4be6-ff43-ea1d12978d85"
      },
      "execution_count": null,
      "outputs": [
        {
          "output_type": "stream",
          "name": "stdout",
          "text": [
            "Choose: (r) for rock , (p) for paper and (s) for scissors: s\n",
            "Computer Choosed r\n",
            "You Lost\n"
          ]
        }
      ]
    },
    {
      "cell_type": "markdown",
      "source": [
        "# 5- Hang Man"
      ],
      "metadata": {
        "id": "6kFdetDNcYWj"
      }
    },
    {
      "cell_type": "code",
      "source": [
        "import random\n",
        "import string\n",
        "\n",
        "words = [\n",
        "    'read', 'car', 'river', 'play', 'fast', 'cat', 'slow', 'elephant', 'car', 'bird',\n",
        "    'cat', 'swim', 'smart', 'house', 'cat', 'bird', 'work', 'fast', 'dance', 'tree',\n",
        "    'happy', 'banana', 'bear', 'orange', 'dance', 'giraffe', 'elephant', 'lion', 'rest', 'ocean',\n",
        "    'sad', 'fast', 'apple', 'write', 'sad', 'strong', 'cat', 'funny', 'run', 'grape',\n",
        "    'play', 'play', 'orange', 'read', 'smart', 'ocean', 'orange', 'elephant', 'lion', 'jump',\n",
        "    'grape', 'elephant', 'play', 'work', 'dog', 'swim', 'sing', 'orange', 'tree', 'fish',\n",
        "    'strong', 'ocean', 'excited', 'fast', 'tiger', 'orange', 'funny', 'cat', 'excited', 'swim',\n",
        "    'grape', 'slow', 'weak', 'banana', 'smart', 'weak', 'river', 'tree', 'bear', 'house',\n",
        "    'apple', 'jump', 'apple', 'jump', 'angry', 'fast', 'sad', 'sing', 'apple', 'lion',\n",
        "    'sad', 'smart', 'tree', 'excited', 'run', 'lion', 'excited', 'cat', 'apple', 'run'\n",
        "]\n",
        "\n",
        "\n",
        "def main():\n",
        "  lives = 5\n",
        "  current_word = random.choice(words).upper()\n",
        "  word_letters = set(current_word.upper())\n",
        "  alphabets = set(string.ascii_uppercase)\n",
        "  used_letters = set()\n",
        "\n",
        "  while len(word_letters) != 0 and lives != 0:\n",
        "    print(f\"You have {lives} lives left and you have used {' '.join(used_letters)} \")\n",
        "    word_list = [letter if letter in used_letters else \"-\" for letter in current_word]\n",
        "    print(f\"Current Word: {' '.join(word_list)}\")\n",
        "\n",
        "    input_letter = input(\"Guess a Letter: \").upper()\n",
        "    if input_letter in alphabets - used_letters :\n",
        "      used_letters.add(input_letter)\n",
        "      if input_letter in word_letters:\n",
        "        word_letters.remove(input_letter)\n",
        "      else:\n",
        "        lives -= 1\n",
        "    elif input_letter in used_letters:\n",
        "      print(\"You have already used this letter. please try another\")\n",
        "    else:\n",
        "      print(\"Invalid Guess\")\n",
        "\n",
        "  if lives == 0:\n",
        "    print(f\"You Lost! , The word is {current_word.upper()}\")\n",
        "  else:\n",
        "    print(f\"You have Guessed The Word Correctly, {current_word.upper()}\")\n",
        "\n",
        "\n",
        "\n",
        "if __name__ == '__main__':\n",
        "    main()"
      ],
      "metadata": {
        "colab": {
          "base_uri": "https://localhost:8080/"
        },
        "id": "yyTZKjBJcjRq",
        "outputId": "8475f313-a2cb-49bd-ffc4-887cba842359"
      },
      "execution_count": null,
      "outputs": [
        {
          "output_type": "stream",
          "name": "stdout",
          "text": [
            "You have 5 lives left and you have used  \n",
            "Current Word: - - - -\n",
            "Guess a Letter: h\n",
            "You have 4 lives left and you have used H \n",
            "Current Word: - - - -\n",
            "Guess a Letter: f\n",
            "You have 3 lives left and you have used F H \n",
            "Current Word: - - - -\n",
            "Guess a Letter: d\n",
            "You have 2 lives left and you have used D F H \n",
            "Current Word: - - - -\n",
            "Guess a Letter: w\n",
            "You have 2 lives left and you have used D W F H \n",
            "Current Word: W - - -\n",
            "Guess a Letter: o\n",
            "You have 2 lives left and you have used F D W O H \n",
            "Current Word: W O - -\n",
            "Guess a Letter: k\n",
            "You have 2 lives left and you have used F D W O H K \n",
            "Current Word: W O - K\n",
            "Guess a Letter: r\n",
            "You have Guessed The Word Correctly, WORK\n"
          ]
        }
      ]
    },
    {
      "cell_type": "markdown",
      "source": [
        "# 6- Count Down Timer"
      ],
      "metadata": {
        "id": "LfWvlr49sneS"
      }
    },
    {
      "cell_type": "code",
      "source": [
        "import time\n",
        "from IPython.display import clear_output\n",
        "\n",
        "def countdown(t):\n",
        "    while t:\n",
        "        mins, secs = divmod(t, 60)\n",
        "        timer = '{:02d}:{:02d}'.format(mins, secs)\n",
        "        clear_output(wait=True)\n",
        "        print(timer)\n",
        "        time.sleep(1)\n",
        "        t -= 1\n",
        "    clear_output(wait=True)\n",
        "    print(\"Timer Completed!\")\n",
        "\n",
        "def main():\n",
        "    inp = input(\"Enter time in seconds: \")\n",
        "    countdown(int(inp))\n",
        "\n",
        "if __name__ == '__main__':\n",
        "    main()\n"
      ],
      "metadata": {
        "colab": {
          "base_uri": "https://localhost:8080/"
        },
        "id": "IvLrFuvlsqbJ",
        "outputId": "724cb432-0106-4806-bfac-981a7dd532c0"
      },
      "execution_count": 15,
      "outputs": [
        {
          "output_type": "stream",
          "name": "stdout",
          "text": [
            "Timer Completed!\n"
          ]
        }
      ]
    }
  ]
}
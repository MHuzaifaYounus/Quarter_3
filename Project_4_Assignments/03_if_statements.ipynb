{
  "nbformat": 4,
  "nbformat_minor": 0,
  "metadata": {
    "colab": {
      "provenance": [],
      "authorship_tag": "ABX9TyPtR3BpSS6QQvmgsjZAaBSb",
      "include_colab_link": true
    },
    "kernelspec": {
      "name": "python3",
      "display_name": "Python 3"
    },
    "language_info": {
      "name": "python"
    }
  },
  "cells": [
    {
      "cell_type": "markdown",
      "metadata": {
        "id": "view-in-github",
        "colab_type": "text"
      },
      "source": [
        "<a href=\"https://colab.research.google.com/github/MHuzaifaYounus/Quarter_3/blob/master/Project_4_Assignments/03_if_statements.ipynb\" target=\"_parent\"><img src=\"https://colab.research.google.com/assets/colab-badge.svg\" alt=\"Open In Colab\"/></a>"
      ]
    },
    {
      "cell_type": "markdown",
      "source": [
        "# 1- Print Events"
      ],
      "metadata": {
        "id": "iZgB3rFqR4oK"
      }
    },
    {
      "cell_type": "code",
      "execution_count": 1,
      "metadata": {
        "colab": {
          "base_uri": "https://localhost:8080/"
        },
        "id": "1LtPl6dDR18I",
        "outputId": "509245bb-7b91-4ece-fbcd-42153867bf36"
      },
      "outputs": [
        {
          "output_type": "stream",
          "name": "stdout",
          "text": [
            "0\n",
            "2\n",
            "4\n",
            "6\n",
            "8\n",
            "10\n",
            "12\n",
            "14\n",
            "16\n",
            "18\n",
            "20\n",
            "22\n",
            "24\n",
            "26\n",
            "28\n",
            "30\n",
            "32\n",
            "34\n",
            "36\n",
            "38\n"
          ]
        }
      ],
      "source": [
        "def main():\n",
        "    for i in range(20):\n",
        "        print(i * 2)\n",
        "\n",
        "\n",
        "if __name__ == \"__main__\":\n",
        "    main()"
      ]
    },
    {
      "cell_type": "markdown",
      "source": [
        "# 2- International Voting Age\n"
      ],
      "metadata": {
        "id": "NGqBsq24SHLh"
      }
    },
    {
      "cell_type": "code",
      "source": [
        "\n",
        "\n",
        "def main():\n",
        "    user_age = int(input(\"How old are you? \"))\n",
        "\n",
        "\n",
        "    if user_age >= 16:\n",
        "        print(\"You can vote in Peturksbouipo where the voting age is 16.\")\n",
        "    else:\n",
        "        print(\"You cannot vote in Peturksbouipo where the voting age is 16.\")\n",
        "\n",
        "\n",
        "    if user_age >= 25:\n",
        "        print(\"You can vote in Stanlau where the voting age is 25 .\")\n",
        "    else:\n",
        "        print(\"You cannot vote in Stanlau where the voting age is 25.\")\n",
        "\n",
        "    if user_age >= 48:\n",
        "        print(\"You can vote in Mayengua where the voting age is 48.\")\n",
        "    else:\n",
        "        print(\"You cannot vote in Mayengua where the voting age is 48.\")\n",
        "\n",
        "\n",
        "\n",
        "if __name__ == '__main__':\n",
        "    main()"
      ],
      "metadata": {
        "colab": {
          "base_uri": "https://localhost:8080/"
        },
        "id": "6lO5CLH2SdRm",
        "outputId": "4d3c1fb9-3f01-4caf-b18a-0085e7eba6d9"
      },
      "execution_count": 2,
      "outputs": [
        {
          "output_type": "stream",
          "name": "stdout",
          "text": [
            "How old are you? 17\n",
            "You can vote in Peturksbouipo where the voting age is 16.\n",
            "You cannot vote in Stanlau where the voting age is 25.\n",
            "You cannot vote in Mayengua where the voting age is 48.\n"
          ]
        }
      ]
    },
    {
      "cell_type": "markdown",
      "source": [
        "# 3- Leap Year"
      ],
      "metadata": {
        "id": "_4JOppe9TKFq"
      }
    },
    {
      "cell_type": "code",
      "source": [
        "def main():\n",
        "\n",
        "    year = int(input('Please input a year: '))\n",
        "\n",
        "    if year % 4 == 0:\n",
        "        if year % 100 == 0:\n",
        "            if year % 400 == 0:\n",
        "                print(\"That's a leap year!\")\n",
        "            else:\n",
        "                print(\"That's not a leap year.\")\n",
        "        else:\n",
        "            print(\"That's a leap year!\")\n",
        "    else:\n",
        "        print(\"That's not a leap year.\")\n",
        "\n",
        "\n",
        "\n",
        "if __name__ == '__main__':\n",
        "    main()"
      ],
      "metadata": {
        "colab": {
          "base_uri": "https://localhost:8080/"
        },
        "id": "_W5Wdmz0TMQp",
        "outputId": "ba9720de-131a-4c40-ff4e-a390a170cf1b"
      },
      "execution_count": 4,
      "outputs": [
        {
          "output_type": "stream",
          "name": "stdout",
          "text": [
            "Please input a year: 2024\n",
            "That's a leap year!\n"
          ]
        }
      ]
    },
    {
      "cell_type": "markdown",
      "source": [
        "# 4- Tell Enough To ride"
      ],
      "metadata": {
        "id": "9YRGebmiTmmh"
      }
    },
    {
      "cell_type": "code",
      "source": [
        "MINIMUM_HEIGHT : int = 50\n",
        "def main():\n",
        "\n",
        "    height = float(input(\"How tall are you? \"))\n",
        "\n",
        "    if height >= MINIMUM_HEIGHT:\n",
        "        print(\"You're tall enough to ride!\")\n",
        "    else:\n",
        "        print(\"You're not tall enough to ride, but maybe next year!\")\n",
        "\n",
        "\n",
        "if __name__ == '__main__':\n",
        "    main()"
      ],
      "metadata": {
        "colab": {
          "base_uri": "https://localhost:8080/"
        },
        "id": "kvUSLyF5T1Pf",
        "outputId": "3204d106-ba44-42cc-d78b-5bf1afe404f0"
      },
      "execution_count": 11,
      "outputs": [
        {
          "output_type": "stream",
          "name": "stdout",
          "text": [
            "How tall are you? 100\n",
            "You're tall enough to ride!\n"
          ]
        }
      ]
    },
    {
      "cell_type": "markdown",
      "source": [
        "# 5- Random Numbers"
      ],
      "metadata": {
        "id": "XOqrsSqjU1Iw"
      }
    },
    {
      "cell_type": "code",
      "source": [
        "import random\n",
        "\n",
        "def main():\n",
        "  random_numbers = []\n",
        "  for num in range(10):\n",
        "    random_numbers.append(random.randint(1,100))\n",
        "  print(random_numbers)\n",
        "\n",
        "if __name__ == '__main__':\n",
        "    main()"
      ],
      "metadata": {
        "colab": {
          "base_uri": "https://localhost:8080/"
        },
        "id": "O_oyo91WU3i3",
        "outputId": "b6a92aad-5b1b-471c-980d-0ec25503db1a"
      },
      "execution_count": 13,
      "outputs": [
        {
          "output_type": "stream",
          "name": "stdout",
          "text": [
            "[23, 18, 85, 79, 47, 33, 34, 67, 38, 88]\n"
          ]
        }
      ]
    }
  ]
}
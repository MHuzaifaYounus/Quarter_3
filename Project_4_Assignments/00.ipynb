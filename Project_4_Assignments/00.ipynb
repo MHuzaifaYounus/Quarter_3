{
  "nbformat": 4,
  "nbformat_minor": 0,
  "metadata": {
    "colab": {
      "provenance": []
    },
    "kernelspec": {
      "name": "python3",
      "display_name": "Python 3"
    },
    "language_info": {
      "name": "python"
    }
  },
  "cells": [
    {
      "cell_type": "markdown",
      "source": [
        "# **1- Add Two Numbers **"
      ],
      "metadata": {
        "id": "H60rU_1RrwEI"
      }
    },
    {
      "cell_type": "code",
      "execution_count": 3,
      "metadata": {
        "colab": {
          "base_uri": "https://localhost:8080/"
        },
        "id": "sM8KIil4rmJ2",
        "outputId": "96043775-01f2-46bd-a95c-c74676c882a2"
      },
      "outputs": [
        {
          "output_type": "stream",
          "name": "stdout",
          "text": [
            "Enter The First Number 5\n",
            "Enter The Second Number 859\n",
            "Result : 864\n"
          ]
        }
      ],
      "source": [
        "def main():\n",
        "    first_input = input(\"Enter The First Number \")\n",
        "    num1 = int(first_input)\n",
        "    second_input = input(\"Enter The Second Number \")\n",
        "    num2 = int(second_input)\n",
        "    print(f\"Result : {num1 + num2}\")\n",
        "\n",
        "\n",
        "\n",
        "\n",
        "if __name__ == '__main__':\n",
        "    main()"
      ]
    },
    {
      "cell_type": "markdown",
      "source": [
        "# 2- Agreement Bot"
      ],
      "metadata": {
        "id": "8f0y8wDEu18P"
      }
    },
    {
      "cell_type": "code",
      "source": [
        "def main():\n",
        "    fav_animal = input(\"What's your favorite animal? \")\n",
        "    print(f\"My favorite animal is also {fav_animal}!\")\n",
        "\n",
        "\n",
        "\n",
        "if __name__ == '__main__':\n",
        "    main()"
      ],
      "metadata": {
        "colab": {
          "base_uri": "https://localhost:8080/"
        },
        "id": "fqFehGRKu72-",
        "outputId": "33cafb85-6a7d-4ecd-ac67-659eb34cb7fc"
      },
      "execution_count": 6,
      "outputs": [
        {
          "output_type": "stream",
          "name": "stdout",
          "text": [
            "What's your favorite animal? cow\n",
            "My favorite animal is also cow!\n"
          ]
        }
      ]
    },
    {
      "cell_type": "markdown",
      "source": [
        "# 3- Fahrenheit To Celsius"
      ],
      "metadata": {
        "id": "vjNfK2zivuKb"
      }
    },
    {
      "cell_type": "code",
      "source": [
        "def main():\n",
        "    input_temp = input(\"Enter temperature in Fahrenheit: \")\n",
        "    degrees_fahrenheit = float(input_temp)\n",
        "    degrees_celsius = (degrees_fahrenheit - 32) * 5.0/9.0\n",
        "    print(f\"Temperature in Celsius : {degrees_celsius}\")\n",
        "\n",
        "if __name__ == '__main__':\n",
        "    main()"
      ],
      "metadata": {
        "colab": {
          "base_uri": "https://localhost:8080/"
        },
        "id": "UKIq86MuvziD",
        "outputId": "49769acb-8cc4-4a26-ab22-7104e3d39309"
      },
      "execution_count": 12,
      "outputs": [
        {
          "output_type": "stream",
          "name": "stdout",
          "text": [
            "Enter temperature in Fahrenheit: -40\n",
            "Temperature in Celsius : -40.0\n"
          ]
        }
      ]
    },
    {
      "cell_type": "markdown",
      "source": [
        "# 4- How Old Are They"
      ],
      "metadata": {
        "id": "U-7RHXplw6af"
      }
    },
    {
      "cell_type": "code",
      "source": [
        "def main():\n",
        "    anton : int = 21\n",
        "    beth : int = 6 + anton\n",
        "    chen : int = 20 + beth\n",
        "    drew  : int= chen + anton\n",
        "    ethan : int = chen\n",
        "\n",
        "    print(f\"Anton is {anton}\")\n",
        "    print(f\"Beth is {beth}\")\n",
        "    print(f\"Chen is {chen}\")\n",
        "    print(f\"Drew is {drew}\")\n",
        "    print(f\"Ethan is {ethan}\")\n",
        "\n",
        "\n",
        "if __name__ == '__main__':\n",
        "    main()\n"
      ],
      "metadata": {
        "colab": {
          "base_uri": "https://localhost:8080/"
        },
        "id": "AJV2wq11xA3l",
        "outputId": "6ca6e0a2-6d8e-4289-9dc4-9730e8333b7b"
      },
      "execution_count": 15,
      "outputs": [
        {
          "output_type": "stream",
          "name": "stdout",
          "text": [
            "Anton is 21\n",
            "Beth is 27\n",
            "Chen is 47\n",
            "Drew is 68\n",
            "Ethan is 47\n"
          ]
        }
      ]
    },
    {
      "cell_type": "markdown",
      "source": [
        "# 5- Triangle Perimeter"
      ],
      "metadata": {
        "id": "vhCweqRYyAHp"
      }
    },
    {
      "cell_type": "code",
      "source": [
        "def main():\n",
        "    side1 = input(\"What is the length of side 1? \")\n",
        "    side2 = input(\"What is the length of side 2? \")\n",
        "    side3 = input(\"What is the length of side 3? \")\n",
        "    print(f\"The Perimeter of Triangle is {float(side1) + float(side2) + float(side3)}\")\n",
        "\n",
        "if __name__ == '__main__':\n",
        "    main()"
      ],
      "metadata": {
        "colab": {
          "base_uri": "https://localhost:8080/"
        },
        "id": "IqFZzFlcyC0h",
        "outputId": "217b73ff-6928-4c4a-839c-0a794fc5a316"
      },
      "execution_count": 16,
      "outputs": [
        {
          "output_type": "stream",
          "name": "stdout",
          "text": [
            "What is the length of side 1? 3\n",
            "What is the length of side 2? 3\n",
            "What is the length of side 3? 3\n",
            "The Perimeter of Triangle is 9.0\n"
          ]
        }
      ]
    },
    {
      "cell_type": "markdown",
      "source": [
        "# 6- Squared Number"
      ],
      "metadata": {
        "id": "Gci9b1BlzhWL"
      }
    },
    {
      "cell_type": "code",
      "source": [
        "def main():\n",
        "    num = float(input(\"Enter a number to see its Square: \"))\n",
        "    squared_num = num**2\n",
        "    print(f\"The Square of {num} is {squared_num}\")\n",
        "\n",
        "if __name__ == '__main__':\n",
        "    main()"
      ],
      "metadata": {
        "colab": {
          "base_uri": "https://localhost:8080/"
        },
        "id": "xEJqkJc_zkg7",
        "outputId": "afddfd38-01f7-44a9-cf34-4baeee59a20b"
      },
      "execution_count": 19,
      "outputs": [
        {
          "output_type": "stream",
          "name": "stdout",
          "text": [
            "Enter a number to see its Square: 4\n",
            "The Square of 4.0 is 16.0\n"
          ]
        }
      ]
    }
  ]
}
{
  "nbformat": 4,
  "nbformat_minor": 0,
  "metadata": {
    "colab": {
      "provenance": [],
      "authorship_tag": "ABX9TyOCSrR3dU1R5Kkj79PijFsS",
      "include_colab_link": true
    },
    "kernelspec": {
      "name": "python3",
      "display_name": "Python 3"
    },
    "language_info": {
      "name": "python"
    }
  },
  "cells": [
    {
      "cell_type": "markdown",
      "metadata": {
        "id": "view-in-github",
        "colab_type": "text"
      },
      "source": [
        "<a href=\"https://colab.research.google.com/github/MHuzaifaYounus/Quarter_3/blob/master/Project_4_Assignments/00_basics.ipynb\" target=\"_parent\"><img src=\"https://colab.research.google.com/assets/colab-badge.svg\" alt=\"Open In Colab\"/></a>"
      ]
    },
    {
      "cell_type": "markdown",
      "source": [
        "# 1- Joke Bot"
      ],
      "metadata": {
        "id": "NkoG941ciQj0"
      }
    },
    {
      "cell_type": "code",
      "execution_count": 11,
      "metadata": {
        "colab": {
          "base_uri": "https://localhost:8080/"
        },
        "id": "CG1el4g2iDpq",
        "outputId": "3d5e8633-00a3-45ab-a14a-6e7ad5ee4c05"
      },
      "outputs": [
        {
          "output_type": "stream",
          "name": "stdout",
          "text": [
            "Enter Your input: plz tell me a joke\n",
            "\n",
            "Why did the scarecrow win an award?\n",
            "\n",
            "Because he was outstanding in his field! \n"
          ]
        }
      ],
      "source": [
        "PROMPT: str = \"What do you want? \"\n",
        "JOKE: str = '''\n",
        "Why did the scarecrow win an award?\n",
        "\n",
        "Because he was outstanding in his field! '''\n",
        "SORRY: str = \"Sorry I only tell jokes.\"\n",
        "\n",
        "def main():\n",
        "\n",
        "    user_input = input(\"Enter Your input: \").strip().lower()\n",
        "\n",
        "    if \"joke\" in user_input:\n",
        "        print(JOKE)\n",
        "    else:\n",
        "        print(SORRY)\n",
        "\n",
        "if __name__ == \"__main__\":\n",
        "    main()"
      ]
    },
    {
      "cell_type": "markdown",
      "source": [
        "# 2- Double It"
      ],
      "metadata": {
        "id": "Iu9hyM1wkCFN"
      }
    },
    {
      "cell_type": "code",
      "source": [
        "\n",
        "def main():\n",
        "  user_num = int(input(\"Enter a Number: \"))\n",
        "  while user_num < 100:\n",
        "    user_num  = user_num * 2\n",
        "    print(user_num)\n",
        "\n",
        "\n",
        "if __name__ == '__main__':\n",
        "    main()"
      ],
      "metadata": {
        "colab": {
          "base_uri": "https://localhost:8080/"
        },
        "id": "ve_l8mYAkEMW",
        "outputId": "7371df69-9740-4c87-fa63-0550bffbeb5c"
      },
      "execution_count": 14,
      "outputs": [
        {
          "output_type": "stream",
          "name": "stdout",
          "text": [
            "Enter a Number: 2\n",
            "4\n",
            "8\n",
            "16\n",
            "32\n",
            "64\n",
            "128\n"
          ]
        }
      ]
    },
    {
      "cell_type": "markdown",
      "source": [
        "# 3- Lift Off"
      ],
      "metadata": {
        "id": "ZEdyeoCpjsJH"
      }
    },
    {
      "cell_type": "code",
      "source": [
        "\n",
        "def main():\n",
        "    print(\"Countdown Starts Now ... \")\n",
        "    num = 10\n",
        "    for i in range(9):\n",
        "      num -= 1\n",
        "      print(num)\n",
        "    print(\"Lift Off\")\n",
        "if __name__ == '__main__':\n",
        "    main()"
      ],
      "metadata": {
        "colab": {
          "base_uri": "https://localhost:8080/"
        },
        "id": "6hLEGE2Jjz3-",
        "outputId": "acff29d3-1699-4ea9-a9fd-c75e0f8f8b4a"
      },
      "execution_count": 13,
      "outputs": [
        {
          "output_type": "stream",
          "name": "stdout",
          "text": [
            "Countdown Starts Now ... \n",
            "9\n",
            "8\n",
            "7\n",
            "6\n",
            "5\n",
            "4\n",
            "3\n",
            "2\n",
            "1\n",
            "Lift Off\n"
          ]
        }
      ]
    },
    {
      "cell_type": "markdown",
      "source": [
        "# 4- Guess My Number"
      ],
      "metadata": {
        "id": "qaSx5C9sjWq4"
      }
    },
    {
      "cell_type": "code",
      "source": [
        "\n",
        "import random\n",
        "\n",
        "def main():\n",
        "\n",
        "    secret_number = random.randint(1, 100)\n",
        "\n",
        "    print(\"I am thinking of a number between 1 and 100...\")\n",
        "\n",
        "\n",
        "    guess = int(input(\"Enter a guess: \"))\n",
        "\n",
        "    while guess != secret_number:\n",
        "        if guess < secret_number:\n",
        "            print(\"Your guess is too low\")\n",
        "        else:\n",
        "            print(\"Your guess is too high\")\n",
        "\n",
        "        guess = int(input(\"Enter a new guess: \"))\n",
        "\n",
        "    print(\"Congrats! The number was: \" + str(secret_number))\n",
        "\n",
        "if __name__ == '__main__':\n",
        "    main()"
      ],
      "metadata": {
        "colab": {
          "base_uri": "https://localhost:8080/"
        },
        "id": "HjZB-wn0jY0I",
        "outputId": "3ec540d2-a991-40dd-866b-9ae3b82c8287"
      },
      "execution_count": 12,
      "outputs": [
        {
          "output_type": "stream",
          "name": "stdout",
          "text": [
            "I am thinking of a number between 1 and 100...\n",
            "Enter a guess: 50\n",
            "Your guess is too low\n",
            "Enter a new guess: 80\n",
            "Your guess is too low\n",
            "Enter a new guess: 90\n",
            "Your guess is too high\n",
            "Enter a new guess: 85\n",
            "Your guess is too low\n",
            "Enter a new guess: 88\n",
            "Your guess is too high\n",
            "Enter a new guess: 87\n",
            "Your guess is too high\n",
            "Enter a new guess: 86\n",
            "Congrats! The number was: 86\n"
          ]
        }
      ]
    },
    {
      "cell_type": "markdown",
      "source": [
        "# 5- Random Numbers"
      ],
      "metadata": {
        "id": "W85qbcYDkOh9"
      }
    },
    {
      "cell_type": "code",
      "source": [
        "\n",
        "import random\n",
        "\n",
        "def main():\n",
        "  random_numbers = []\n",
        "  for num in range(10):\n",
        "    random_numbers.append(random.randint(1,100))\n",
        "  print(random_numbers)\n",
        "\n",
        "if __name__ == '__main__':\n",
        "    main()"
      ],
      "metadata": {
        "id": "DpVaXvHakRlu",
        "outputId": "06cdaff2-1191-4399-ad7d-7ad4d20b7353",
        "colab": {
          "base_uri": "https://localhost:8080/"
        }
      },
      "execution_count": 15,
      "outputs": [
        {
          "output_type": "stream",
          "name": "stdout",
          "text": [
            "[18, 48, 81, 98, 40, 78, 2, 89, 70, 52]\n"
          ]
        }
      ]
    }
  ]
}
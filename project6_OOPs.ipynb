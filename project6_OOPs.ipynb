{
  "nbformat": 4,
  "nbformat_minor": 0,
  "metadata": {
    "colab": {
      "provenance": [],
      "authorship_tag": "ABX9TyPZw4AqzvWeIFmXm+vx/pTD",
      "include_colab_link": true
    },
    "kernelspec": {
      "name": "python3",
      "display_name": "Python 3"
    },
    "language_info": {
      "name": "python"
    }
  },
  "cells": [
    {
      "cell_type": "markdown",
      "metadata": {
        "id": "view-in-github",
        "colab_type": "text"
      },
      "source": [
        "<a href=\"https://colab.research.google.com/github/MHuzaifaYounus/Quarter_3/blob/master/project6_OOPs.ipynb\" target=\"_parent\"><img src=\"https://colab.research.google.com/assets/colab-badge.svg\" alt=\"Open In Colab\"/></a>"
      ]
    },
    {
      "cell_type": "markdown",
      "source": [
        "# **1 Using self**"
      ],
      "metadata": {
        "id": "ikhlQbpA7zTI"
      }
    },
    {
      "cell_type": "code",
      "execution_count": null,
      "metadata": {
        "colab": {
          "base_uri": "https://localhost:8080/"
        },
        "id": "AhT_b7sT7nBm",
        "outputId": "fd20976f-28a7-46d0-e2cc-2435aef7f565"
      },
      "outputs": [
        {
          "output_type": "stream",
          "name": "stdout",
          "text": [
            "Student Name: Ahmed , Student Marks: 444\n"
          ]
        }
      ],
      "source": [
        "class Student:\n",
        "  def __init__(self,name,marks):\n",
        "    self.name = name\n",
        "    self.marks = marks\n",
        "\n",
        "  def display(self):\n",
        "    print(f\"Student Name: {self.name} , Student Marks: {self.marks}\")\n",
        "student = Student(\"Ahmed\", 444)\n",
        "student.display()"
      ]
    },
    {
      "cell_type": "markdown",
      "source": [
        "# **2 Using CLs**"
      ],
      "metadata": {
        "id": "ndV5Szol9x5l"
      }
    },
    {
      "cell_type": "code",
      "source": [
        "class Counter:\n",
        "    count = 0\n",
        "    @classmethod\n",
        "    def __init__(cls):\n",
        "        cls.count += 1\n",
        "        print(cls.count)\n",
        "\n",
        "class1 = Counter()\n",
        "class2 = Counter()\n",
        "class3 = Counter()\n"
      ],
      "metadata": {
        "id": "YEvh0izI94Hm",
        "colab": {
          "base_uri": "https://localhost:8080/"
        },
        "outputId": "ca1d7f31-3882-4922-917f-2858a28d153c"
      },
      "execution_count": null,
      "outputs": [
        {
          "output_type": "stream",
          "name": "stdout",
          "text": [
            "1\n",
            "2\n",
            "3\n"
          ]
        }
      ]
    },
    {
      "cell_type": "markdown",
      "source": [
        "# **3 Public Variables and Methods**"
      ],
      "metadata": {
        "id": "rwFvYNgE5gGd"
      }
    },
    {
      "cell_type": "code",
      "source": [
        "class Car:\n",
        "    def __init__(self, brand):\n",
        "        self.brand = brand\n",
        "    def start(self):\n",
        "        print(f\"Starting Your {self.brand}\")\n",
        "\n",
        "\n",
        "car1 = Car(\"Toyota\")\n",
        "car1.start()"
      ],
      "metadata": {
        "colab": {
          "base_uri": "https://localhost:8080/"
        },
        "id": "yedvuAuT6aCe",
        "outputId": "9f7a18b6-a276-4ca3-fb98-0a21a196d570"
      },
      "execution_count": null,
      "outputs": [
        {
          "output_type": "stream",
          "name": "stdout",
          "text": [
            "Starting Your Toyota\n"
          ]
        }
      ]
    },
    {
      "cell_type": "markdown",
      "source": [
        "# **4 Class Variables and Class Methods**"
      ],
      "metadata": {
        "id": "nqwohzBW6mSk"
      }
    },
    {
      "cell_type": "code",
      "source": [
        "class Bank:\n",
        "    bank_name = \"Bank of Karachi\"\n",
        "    @classmethod\n",
        "    def change_bank_name(cls, new_name):\n",
        "        cls.bank_name = new_name\n",
        "\n",
        "\n",
        "bank1 = Bank()\n",
        "bank2 = Bank()\n",
        "bank3 = Bank()\n",
        "bank1.change_bank_name(\"Bank of Pakistan\")\n",
        "bank2.change_bank_name(\"Bank of Sindh\")\n",
        "\n",
        "\n",
        "print(bank1.bank_name)\n",
        "print(bank2.bank_name)\n",
        "print(bank3.bank_name)"
      ],
      "metadata": {
        "colab": {
          "base_uri": "https://localhost:8080/"
        },
        "id": "m4ni9TWi6oEs",
        "outputId": "551f2cc1-f51c-40db-f23f-3a561ec414fc"
      },
      "execution_count": null,
      "outputs": [
        {
          "output_type": "stream",
          "name": "stdout",
          "text": [
            "Bank of Sindh\n",
            "Bank of Sindh\n",
            "Bank of Sindh\n"
          ]
        }
      ]
    },
    {
      "cell_type": "markdown",
      "source": [
        "# **5. Static Variables and Static Methods**"
      ],
      "metadata": {
        "id": "i5c8c7_H8Cna"
      }
    },
    {
      "cell_type": "code",
      "source": [
        "class MathUtils:\n",
        "  @staticmethod\n",
        "  def add(a,b):\n",
        "    return a + b\n",
        "\n",
        "result = MathUtils.add(10,20)\n",
        "print(result)"
      ],
      "metadata": {
        "id": "Feml4ppK8E6q",
        "colab": {
          "base_uri": "https://localhost:8080/"
        },
        "outputId": "855b277f-a0d3-45dc-c5b0-2429282e6f0d"
      },
      "execution_count": null,
      "outputs": [
        {
          "output_type": "stream",
          "name": "stdout",
          "text": [
            "30\n"
          ]
        }
      ]
    },
    {
      "cell_type": "markdown",
      "source": [
        "# **6.Constructors and Destructors**"
      ],
      "metadata": {
        "id": "jVCglmkiapCe"
      }
    },
    {
      "cell_type": "code",
      "source": [
        "class Logger:\n",
        "  def __init__(self):\n",
        "    print(\"Object Created!\")\n",
        "  def __del__(self):\n",
        "    print(\"Object Destroyed!\")\n",
        "\n",
        "logger = Logger()\n",
        "del logger"
      ],
      "metadata": {
        "colab": {
          "base_uri": "https://localhost:8080/"
        },
        "id": "wYOt66kIa6vW",
        "outputId": "452447ae-c995-46c1-b7e1-0cf8acb2df49"
      },
      "execution_count": null,
      "outputs": [
        {
          "output_type": "stream",
          "name": "stdout",
          "text": [
            "Object Created!\n",
            "Object Destroyed!\n"
          ]
        }
      ]
    },
    {
      "cell_type": "markdown",
      "source": [
        "# **7. Access Modifiers: Public, Private, and Protected**"
      ],
      "metadata": {
        "id": "dcMJwuGrcZ8L"
      }
    },
    {
      "cell_type": "code",
      "source": [
        "class Employ:\n",
        "  def __init__(self , name , salary , ssn):\n",
        "    self.name = name\n",
        "    self._salary = salary\n",
        "    self.__ssn = ssn\n",
        "\n",
        "employ = Employ(\"Ahmed\" , 100000 , 123456789)\n",
        "print(employ.name)\n",
        "print(employ._salary)\n",
        "print(employ._Employ__ssn)"
      ],
      "metadata": {
        "colab": {
          "base_uri": "https://localhost:8080/"
        },
        "id": "mfqspwnrcekL",
        "outputId": "373cc713-945c-453a-8614-b59ce37d4020"
      },
      "execution_count": null,
      "outputs": [
        {
          "output_type": "stream",
          "name": "stdout",
          "text": [
            "Ahmed\n",
            "100000\n",
            "123456789\n"
          ]
        }
      ]
    },
    {
      "cell_type": "markdown",
      "source": [
        "# **8. The super() Function**"
      ],
      "metadata": {
        "id": "sWZqMClMdiXI"
      }
    },
    {
      "cell_type": "code",
      "source": [
        "\n",
        "class Person():\n",
        "  def __init__(self , name):\n",
        "    self.name = name\n",
        "class Teacher(Person):\n",
        "  def __init__(self , name , subject):\n",
        "    super().__init__(name)\n",
        "    self.subject = subject\n",
        "\n",
        "teacher = Teacher(\"Ahmed\" , \"Math\")\n",
        "print(teacher.name)\n",
        "print(teacher.subject)\n"
      ],
      "metadata": {
        "colab": {
          "base_uri": "https://localhost:8080/"
        },
        "id": "bG0zzTQTdj4Y",
        "outputId": "46927fe6-cf16-45ba-cd3e-0c871fb0f3a8"
      },
      "execution_count": null,
      "outputs": [
        {
          "output_type": "stream",
          "name": "stdout",
          "text": [
            "Ahmed\n",
            "Math\n"
          ]
        }
      ]
    },
    {
      "cell_type": "markdown",
      "source": [
        "# **9. Abstract Classes and Methods**"
      ],
      "metadata": {
        "id": "RQqCtH6KexdW"
      }
    },
    {
      "cell_type": "code",
      "source": [
        "from abc import abstractmethod , ABC\n",
        "class Shape(ABC):\n",
        "  @abstractmethod\n",
        "  def area(self):\n",
        "    pass\n",
        "class Rectangle(Shape):\n",
        "  def __init__(self , length , width):\n",
        "    self.length = length\n",
        "    self.width = width\n",
        "  def area(self):\n",
        "    return self.length * self.width\n",
        "\n",
        "rectangle = Rectangle(10 , 20)\n",
        "print(rectangle.area())"
      ],
      "metadata": {
        "colab": {
          "base_uri": "https://localhost:8080/"
        },
        "id": "eQTK5r_De95P",
        "outputId": "edb1e472-ed48-4168-80e5-bb32744dafac"
      },
      "execution_count": null,
      "outputs": [
        {
          "output_type": "stream",
          "name": "stdout",
          "text": [
            "200\n"
          ]
        }
      ]
    },
    {
      "cell_type": "markdown",
      "source": [
        "# **10. Instance Methods**"
      ],
      "metadata": {
        "id": "CU2HCDF1gh7f"
      }
    },
    {
      "cell_type": "code",
      "source": [
        "class Dog:\n",
        "  def __init__(self , name , breed):\n",
        "    self.name = name\n",
        "    self.breed = breed\n",
        "  def bark(self):\n",
        "    print(f\"{self.name} is barking!\")\n",
        "\n",
        "dog1 = Dog(\"Buddy\",\"German Sheferd\")\n",
        "dog1.bark()"
      ],
      "metadata": {
        "colab": {
          "base_uri": "https://localhost:8080/"
        },
        "id": "cUdoiIqNgw-T",
        "outputId": "cf79aca8-267c-47dd-b304-7bb0ece1c82c"
      },
      "execution_count": null,
      "outputs": [
        {
          "output_type": "stream",
          "name": "stdout",
          "text": [
            "Buddy is barking!\n"
          ]
        }
      ]
    },
    {
      "cell_type": "markdown",
      "source": [
        "# **11. Class Methods**"
      ],
      "metadata": {
        "id": "-Zpd8I7yh_rN"
      }
    },
    {
      "cell_type": "code",
      "source": [
        "class Book:\n",
        "  total_books = 0\n",
        "  @classmethod\n",
        "  def increment_book_count(cls):\n",
        "    cls.total_books += 1\n",
        "book1 = Book()\n",
        "book1.increment_book_count()\n",
        "print(Book.total_books)"
      ],
      "metadata": {
        "colab": {
          "base_uri": "https://localhost:8080/"
        },
        "id": "Xaf3MVhiiDaq",
        "outputId": "859186b0-c72f-4554-eaef-81d904b8b739"
      },
      "execution_count": null,
      "outputs": [
        {
          "output_type": "stream",
          "name": "stdout",
          "text": [
            "1\n"
          ]
        }
      ]
    },
    {
      "cell_type": "markdown",
      "source": [
        "# **# 12.Static methods**"
      ],
      "metadata": {
        "id": "jJdAI5jei2wo"
      }
    },
    {
      "cell_type": "code",
      "source": [
        "class TemperatureConverter:\n",
        "  @staticmethod\n",
        "  def celsius_to_fahrenheit(celsius_temp):\n",
        "    return (celsius_temp * 9/5) + 32\n",
        "\n",
        "converter = TemperatureConverter()\n",
        "fahrenheit_temp = converter.celsius_to_fahrenheit(-40)\n",
        "print(fahrenheit_temp)\n"
      ],
      "metadata": {
        "colab": {
          "base_uri": "https://localhost:8080/"
        },
        "id": "B1a60ngFjALy",
        "outputId": "cddb9574-0966-40ed-ccfc-1fc7236d15f5"
      },
      "execution_count": null,
      "outputs": [
        {
          "output_type": "stream",
          "name": "stdout",
          "text": [
            "-40.0\n"
          ]
        }
      ]
    },
    {
      "cell_type": "markdown",
      "source": [
        "# **13.Composition**"
      ],
      "metadata": {
        "id": "S0UHmiIijrcm"
      }
    },
    {
      "cell_type": "code",
      "source": [
        "class Engine:\n",
        "  def start(self):\n",
        "    print(\"Engine started!\")\n",
        "\n",
        "class Car:\n",
        "  def __init__(self):\n",
        "    self.engine = Engine()\n",
        "  def start_engine(self):\n",
        "    self.engine.start()\n",
        "\n",
        "\n",
        "car = Car()\n",
        "car.start_engine()"
      ],
      "metadata": {
        "colab": {
          "base_uri": "https://localhost:8080/"
        },
        "id": "-TWD3X8BnIqF",
        "outputId": "181a3f51-f2d8-48d5-887a-b1d2f648fec5"
      },
      "execution_count": null,
      "outputs": [
        {
          "output_type": "stream",
          "name": "stdout",
          "text": [
            "Engine started!\n"
          ]
        }
      ]
    },
    {
      "cell_type": "markdown",
      "source": [
        "# **14.Agregation**"
      ],
      "metadata": {
        "id": "ph6NKSsNskCF"
      }
    },
    {
      "cell_type": "code",
      "source": [
        "class Employ:\n",
        "  def __init__(self,name):\n",
        "    self.name = name\n",
        "\n",
        "class Department:\n",
        "  def __init__(self):\n",
        "    self.employs = []\n",
        "  def add_employ(self , employ):\n",
        "    self.employs.append(employ)\n",
        "\n",
        "department = Department()\n",
        "employ1 = Employ(\"Ahmed\")\n",
        "employ2 = Employ(\"Ali\")\n",
        "department.add_employ(employ1)\n",
        "department.add_employ(employ2)\n"
      ],
      "metadata": {
        "id": "TChQ2geIsnk4"
      },
      "execution_count": null,
      "outputs": []
    },
    {
      "cell_type": "markdown",
      "source": [
        "# **15. Method Resolution Order (MRO) and Diamond Inheritance**"
      ],
      "metadata": {
        "id": "vaYudo7quk7E"
      }
    },
    {
      "cell_type": "code",
      "source": [
        "class A:\n",
        "  def show(self):\n",
        "    print(\"This is a secret\")\n",
        "class B(A):\n",
        "  def show(self):\n",
        "    print(\"This is a story\")\n",
        "class C(A):\n",
        "  def show(self):\n",
        "    print(\"This is a Game\")\n",
        "class D(B,C):\n",
        "  pass\n",
        "d = D()\n",
        "d.show()"
      ],
      "metadata": {
        "colab": {
          "base_uri": "https://localhost:8080/"
        },
        "id": "oRNAczGbumnG",
        "outputId": "fa5fe27a-94ea-4f2f-896f-d842ea122538"
      },
      "execution_count": null,
      "outputs": [
        {
          "output_type": "stream",
          "name": "stdout",
          "text": [
            "This is a story\n"
          ]
        }
      ]
    },
    {
      "cell_type": "markdown",
      "source": [
        "# **16. Function Decorators**"
      ],
      "metadata": {
        "id": "5EuzvVTX1AE7"
      }
    },
    {
      "cell_type": "code",
      "source": [
        "\n",
        "def log_function_call(original_function):\n",
        "  def wrapper():\n",
        "    print(\"Function is being called\")\n",
        "    original_function()\n",
        "  return wrapper\n",
        "\n",
        "@log_function_call\n",
        "def say_hello():\n",
        "    print(\"Hello!\")\n",
        "\n",
        "say_hello()\n",
        "\n"
      ],
      "metadata": {
        "colab": {
          "base_uri": "https://localhost:8080/"
        },
        "id": "Pqe-ymcP1BoA",
        "outputId": "028278f7-aef3-40d4-d1c2-73e2a494dd22"
      },
      "execution_count": 6,
      "outputs": [
        {
          "output_type": "stream",
          "name": "stdout",
          "text": [
            "Function is being called\n",
            "Hello!\n"
          ]
        }
      ]
    },
    {
      "cell_type": "markdown",
      "source": [
        "# **17. Class Decorator**"
      ],
      "metadata": {
        "id": "voMlGtl_e7Pr"
      }
    },
    {
      "cell_type": "code",
      "source": [
        "def add_greeting(cls):\n",
        "  def greet(self):\n",
        "    return \"Hello from decorator!\"\n",
        "  cls.greet = greet\n",
        "  return cls\n",
        "\n",
        "@add_greeting\n",
        "class Person:\n",
        "  def __init__(self , name):\n",
        "    self.name = name\n",
        "\n",
        "person = Person(\"Ahmed\")\n",
        "print(person.greet())\n"
      ],
      "metadata": {
        "colab": {
          "base_uri": "https://localhost:8080/"
        },
        "id": "WrHEJwoee_kE",
        "outputId": "113f61f6-73e2-4897-c0fb-ef9ca471e403"
      },
      "execution_count": 8,
      "outputs": [
        {
          "output_type": "stream",
          "name": "stdout",
          "text": [
            "Hello from decorator!\n"
          ]
        }
      ]
    },
    {
      "cell_type": "markdown",
      "source": [
        "# 18.Property Decorators"
      ],
      "metadata": {
        "id": "1S_sXFjFgQdx"
      }
    },
    {
      "cell_type": "code",
      "source": [
        "class Product:\n",
        "    def __init__(self, price):\n",
        "        self.__price = price\n",
        "    @property\n",
        "    def price(self):\n",
        "      return self.__price\n",
        "    @price.setter\n",
        "    def price(self, new_price):\n",
        "      self.__price = new_price\n",
        "    @price.deleter\n",
        "    def price(self):\n",
        "      print(\"price deleted!\")\n",
        "      del self.__price\n",
        "\n",
        "\n",
        "p = Product(90)\n",
        "p.price = 100\n",
        "print(p.price)\n",
        "del p.price"
      ],
      "metadata": {
        "colab": {
          "base_uri": "https://localhost:8080/"
        },
        "id": "p4m-iHjsgTjH",
        "outputId": "5dd42a9b-6469-4d9d-aa9b-1da9588a665f"
      },
      "execution_count": 26,
      "outputs": [
        {
          "output_type": "stream",
          "name": "stdout",
          "text": [
            "100\n",
            "price deleted!\n"
          ]
        }
      ]
    },
    {
      "cell_type": "markdown",
      "source": [
        "# **19. Callable and _call_**"
      ],
      "metadata": {
        "id": "xSKB2noej1nM"
      }
    },
    {
      "cell_type": "code",
      "source": [
        "class Multiplier:\n",
        "  def __init__(self, factor):\n",
        "    self.factor = factor\n",
        "  def __call__(self,inp):\n",
        "    return inp * self.factor\n",
        "\n",
        "obj = Multiplier(5)\n",
        "print(callable(obj))\n",
        "obj(9)"
      ],
      "metadata": {
        "colab": {
          "base_uri": "https://localhost:8080/"
        },
        "id": "-dyR2PPlkAAM",
        "outputId": "f770a47e-0e08-4dfe-fe5d-078b76107c7d"
      },
      "execution_count": 33,
      "outputs": [
        {
          "output_type": "stream",
          "name": "stdout",
          "text": [
            "True\n"
          ]
        },
        {
          "output_type": "execute_result",
          "data": {
            "text/plain": [
              "45"
            ]
          },
          "metadata": {},
          "execution_count": 33
        }
      ]
    },
    {
      "cell_type": "markdown",
      "source": [
        "# **20.Creating a custom Exception**"
      ],
      "metadata": {
        "id": "P4sgYNXbnjJf"
      }
    },
    {
      "cell_type": "code",
      "source": [
        "class InvalidAgeError(Exception):\n",
        "  def __init__(self,age):\n",
        "    super().__init__(f\"Invalid Age: {age}. Age must be greater than or equal to 18.\")\n",
        "\n",
        "def checkAge(age):\n",
        "  try:\n",
        "    if age >= 18:\n",
        "      print(\"You are eligible for ID card\")\n",
        "    else:\n",
        "      raise InvalidAgeError(age)\n",
        "  except InvalidAgeError as e:\n",
        "    print(e)\n",
        "\n",
        "checkAge(17)\n",
        ""
      ],
      "metadata": {
        "colab": {
          "base_uri": "https://localhost:8080/"
        },
        "id": "DOV8crFOnmE5",
        "outputId": "5f916ded-7cab-4805-d161-7700db3c8872"
      },
      "execution_count": 35,
      "outputs": [
        {
          "output_type": "stream",
          "name": "stdout",
          "text": [
            "Invalid Age: 17. Age must be greater than or equal to 18.\n"
          ]
        }
      ]
    },
    {
      "cell_type": "markdown",
      "source": [
        "# 21.Make a custom Class Iterable"
      ],
      "metadata": {
        "id": "I2rjfL2_qymh"
      }
    },
    {
      "cell_type": "code",
      "source": [
        "from collections.abc import Iterable , Iterator\n",
        "class CountDown(Iterable):\n",
        "  def __init__(self , start):\n",
        "    self.start = start\n",
        "  def __iter__(self):\n",
        "    return CountDownIterator(self.start)\n",
        "class CountDownIterator(Iterator):\n",
        "  def __init__(self,start):\n",
        "    self.start = start\n",
        "  def __next__(self):\n",
        "    if self.start == 0:\n",
        "      raise StopIteration\n",
        "    else:\n",
        "      self.start -= 1\n",
        "    return self.start\n",
        "count = CountDown(5)\n",
        "for i in count:\n",
        "  print(i)"
      ],
      "metadata": {
        "colab": {
          "base_uri": "https://localhost:8080/"
        },
        "id": "CVV3YaMCq2LZ",
        "outputId": "e9e95dc6-71b7-4e27-a715-d16b7a85df8b"
      },
      "execution_count": 36,
      "outputs": [
        {
          "output_type": "stream",
          "name": "stdout",
          "text": [
            "4\n",
            "3\n",
            "2\n",
            "1\n",
            "0\n"
          ]
        }
      ]
    }
  ]
}